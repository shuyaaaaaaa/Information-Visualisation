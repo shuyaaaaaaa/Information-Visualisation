{
 "cells": [
  {
   "cell_type": "code",
   "execution_count": 149,
   "metadata": {},
   "outputs": [],
   "source": [
    "import pandas as pd"
   ]
  },
  {
   "cell_type": "code",
   "execution_count": 150,
   "metadata": {},
   "outputs": [],
   "source": [
    "df = pd.read_csv('coffee_ratings.csv')  "
   ]
  },
  {
   "cell_type": "code",
   "execution_count": 151,
   "metadata": {},
   "outputs": [
    {
     "name": "stdout",
     "output_type": "stream",
     "text": [
      "<bound method DataFrame.info of       total_cup_points  species                     owner country_of_origin  \\\n",
      "0                90.58  Arabica                 metad plc          Ethiopia   \n",
      "1                89.92  Arabica                 metad plc          Ethiopia   \n",
      "2                89.75  Arabica  grounds for health admin         Guatemala   \n",
      "3                89.00  Arabica       yidnekachew dabessa          Ethiopia   \n",
      "4                88.83  Arabica                 metad plc          Ethiopia   \n",
      "...                ...      ...                       ...               ...   \n",
      "1334             78.75  Robusta               luis robles           Ecuador   \n",
      "1335             78.08  Robusta               luis robles           Ecuador   \n",
      "1336             77.17  Robusta               james moore     United States   \n",
      "1337             75.08  Robusta             cafe politico             India   \n",
      "1338             73.75  Robusta             cafe politico           Vietnam   \n",
      "\n",
      "                                     farm_name lot_number            mill  \\\n",
      "0                                    metad plc        NaN       metad plc   \n",
      "1                                    metad plc        NaN       metad plc   \n",
      "2     san marcos barrancas \"san cristobal cuch        NaN             NaN   \n",
      "3        yidnekachew dabessa coffee plantation        NaN         wolensu   \n",
      "4                                    metad plc        NaN       metad plc   \n",
      "...                                        ...        ...             ...   \n",
      "1334                                 robustasa   Lavado 1     our own lab   \n",
      "1335                                 robustasa   Lavado 3  own laboratory   \n",
      "1336                           fazenda cazengo        NaN    cafe cazengo   \n",
      "1337                                       NaN        NaN             NaN   \n",
      "1338                                       NaN        NaN             NaN   \n",
      "\n",
      "             ico_number                                company       altitude  \\\n",
      "0             2014/2015      metad agricultural developmet plc      1950-2200   \n",
      "1             2014/2015      metad agricultural developmet plc      1950-2200   \n",
      "2                   NaN                                    NaN  1600 - 1800 m   \n",
      "3                   NaN  yidnekachew debessa coffee plantation      1800-2200   \n",
      "4             2014/2015      metad agricultural developmet plc      1950-2200   \n",
      "...                 ...                                    ...            ...   \n",
      "1334                NaN                              robustasa            NaN   \n",
      "1335                NaN                              robustasa             40   \n",
      "1336                NaN                global opportunity fund     795 meters   \n",
      "1337  14-1118-2014-0087                          cafe politico            NaN   \n",
      "1338                NaN                          cafe politico            NaN   \n",
      "\n",
      "      ...       color category_two_defects           expiration  \\\n",
      "0     ...       Green                    0      April 3rd, 2016   \n",
      "1     ...       Green                    1      April 3rd, 2016   \n",
      "2     ...         NaN                    0       May 31st, 2011   \n",
      "3     ...       Green                    2     March 25th, 2016   \n",
      "4     ...       Green                    2      April 3rd, 2016   \n",
      "...   ...         ...                  ...                  ...   \n",
      "1334  ...  Blue-Green                    1   January 18th, 2017   \n",
      "1335  ...  Blue-Green                    0   January 18th, 2017   \n",
      "1336  ...         NaN                    6  December 23rd, 2015   \n",
      "1337  ...       Green                    1    August 25th, 2015   \n",
      "1338  ...        None                    9    August 25th, 2015   \n",
      "\n",
      "                      certification_body  \\\n",
      "0     METAD Agricultural Development plc   \n",
      "1     METAD Agricultural Development plc   \n",
      "2           Specialty Coffee Association   \n",
      "3     METAD Agricultural Development plc   \n",
      "4     METAD Agricultural Development plc   \n",
      "...                                  ...   \n",
      "1334        Specialty Coffee Association   \n",
      "1335        Specialty Coffee Association   \n",
      "1336        Specialty Coffee Association   \n",
      "1337        Specialty Coffee Association   \n",
      "1338        Specialty Coffee Association   \n",
      "\n",
      "                         certification_address  \\\n",
      "0     309fcf77415a3661ae83e027f7e5f05dad786e44   \n",
      "1     309fcf77415a3661ae83e027f7e5f05dad786e44   \n",
      "2     36d0d00a3724338ba7937c52a378d085f2172daa   \n",
      "3     309fcf77415a3661ae83e027f7e5f05dad786e44   \n",
      "4     309fcf77415a3661ae83e027f7e5f05dad786e44   \n",
      "...                                        ...   \n",
      "1334  ff7c18ad303d4b603ac3f8cff7e611ffc735e720   \n",
      "1335  ff7c18ad303d4b603ac3f8cff7e611ffc735e720   \n",
      "1336  ff7c18ad303d4b603ac3f8cff7e611ffc735e720   \n",
      "1337  ff7c18ad303d4b603ac3f8cff7e611ffc735e720   \n",
      "1338  ff7c18ad303d4b603ac3f8cff7e611ffc735e720   \n",
      "\n",
      "                         certification_contact unit_of_measurement  \\\n",
      "0     19fef5a731de2db57d16da10287413f5f99bc2dd                   m   \n",
      "1     19fef5a731de2db57d16da10287413f5f99bc2dd                   m   \n",
      "2     0878a7d4b9d35ddbf0fe2ce69a2062cceb45a660                   m   \n",
      "3     19fef5a731de2db57d16da10287413f5f99bc2dd                   m   \n",
      "4     19fef5a731de2db57d16da10287413f5f99bc2dd                   m   \n",
      "...                                        ...                 ...   \n",
      "1334  352d0cf7f3e9be14dad7df644ad65efc27605ae2                   m   \n",
      "1335  352d0cf7f3e9be14dad7df644ad65efc27605ae2                   m   \n",
      "1336  352d0cf7f3e9be14dad7df644ad65efc27605ae2                   m   \n",
      "1337  352d0cf7f3e9be14dad7df644ad65efc27605ae2                   m   \n",
      "1338  352d0cf7f3e9be14dad7df644ad65efc27605ae2                   m   \n",
      "\n",
      "     altitude_low_meters altitude_high_meters altitude_mean_meters  \n",
      "0                 1950.0               2200.0               2075.0  \n",
      "1                 1950.0               2200.0               2075.0  \n",
      "2                 1600.0               1800.0               1700.0  \n",
      "3                 1800.0               2200.0               2000.0  \n",
      "4                 1950.0               2200.0               2075.0  \n",
      "...                  ...                  ...                  ...  \n",
      "1334                 NaN                  NaN                  NaN  \n",
      "1335                40.0                 40.0                 40.0  \n",
      "1336               795.0                795.0                795.0  \n",
      "1337                 NaN                  NaN                  NaN  \n",
      "1338                 NaN                  NaN                  NaN  \n",
      "\n",
      "[1339 rows x 43 columns]>\n"
     ]
    }
   ],
   "source": [
    "print(df.info)"
   ]
  },
  {
   "cell_type": "code",
   "execution_count": 152,
   "metadata": {},
   "outputs": [
    {
     "name": "stdout",
     "output_type": "stream",
     "text": [
      "   total_cup_points  species                     owner country_of_origin  \\\n",
      "0             90.58  Arabica                 metad plc          Ethiopia   \n",
      "1             89.92  Arabica                 metad plc          Ethiopia   \n",
      "2             89.75  Arabica  grounds for health admin         Guatemala   \n",
      "3             89.00  Arabica       yidnekachew dabessa          Ethiopia   \n",
      "4             88.83  Arabica                 metad plc          Ethiopia   \n",
      "\n",
      "                                  farm_name lot_number       mill ico_number  \\\n",
      "0                                 metad plc        NaN  metad plc  2014/2015   \n",
      "1                                 metad plc        NaN  metad plc  2014/2015   \n",
      "2  san marcos barrancas \"san cristobal cuch        NaN        NaN        NaN   \n",
      "3     yidnekachew dabessa coffee plantation        NaN    wolensu        NaN   \n",
      "4                                 metad plc        NaN  metad plc  2014/2015   \n",
      "\n",
      "                                 company       altitude  ...  color  \\\n",
      "0      metad agricultural developmet plc      1950-2200  ...  Green   \n",
      "1      metad agricultural developmet plc      1950-2200  ...  Green   \n",
      "2                                    NaN  1600 - 1800 m  ...    NaN   \n",
      "3  yidnekachew debessa coffee plantation      1800-2200  ...  Green   \n",
      "4      metad agricultural developmet plc      1950-2200  ...  Green   \n",
      "\n",
      "  category_two_defects        expiration                  certification_body  \\\n",
      "0                    0   April 3rd, 2016  METAD Agricultural Development plc   \n",
      "1                    1   April 3rd, 2016  METAD Agricultural Development plc   \n",
      "2                    0    May 31st, 2011        Specialty Coffee Association   \n",
      "3                    2  March 25th, 2016  METAD Agricultural Development plc   \n",
      "4                    2   April 3rd, 2016  METAD Agricultural Development plc   \n",
      "\n",
      "                      certification_address  \\\n",
      "0  309fcf77415a3661ae83e027f7e5f05dad786e44   \n",
      "1  309fcf77415a3661ae83e027f7e5f05dad786e44   \n",
      "2  36d0d00a3724338ba7937c52a378d085f2172daa   \n",
      "3  309fcf77415a3661ae83e027f7e5f05dad786e44   \n",
      "4  309fcf77415a3661ae83e027f7e5f05dad786e44   \n",
      "\n",
      "                      certification_contact unit_of_measurement  \\\n",
      "0  19fef5a731de2db57d16da10287413f5f99bc2dd                   m   \n",
      "1  19fef5a731de2db57d16da10287413f5f99bc2dd                   m   \n",
      "2  0878a7d4b9d35ddbf0fe2ce69a2062cceb45a660                   m   \n",
      "3  19fef5a731de2db57d16da10287413f5f99bc2dd                   m   \n",
      "4  19fef5a731de2db57d16da10287413f5f99bc2dd                   m   \n",
      "\n",
      "  altitude_low_meters altitude_high_meters altitude_mean_meters  \n",
      "0              1950.0               2200.0               2075.0  \n",
      "1              1950.0               2200.0               2075.0  \n",
      "2              1600.0               1800.0               1700.0  \n",
      "3              1800.0               2200.0               2000.0  \n",
      "4              1950.0               2200.0               2075.0  \n",
      "\n",
      "[5 rows x 43 columns]\n"
     ]
    }
   ],
   "source": [
    "print(df.head(5))"
   ]
  },
  {
   "cell_type": "code",
   "execution_count": 153,
   "metadata": {},
   "outputs": [
    {
     "name": "stdout",
     "output_type": "stream",
     "text": [
      "total_cup_points            0\n",
      "species                     0\n",
      "owner                       7\n",
      "country_of_origin           1\n",
      "farm_name                 359\n",
      "lot_number               1063\n",
      "mill                      318\n",
      "ico_number                157\n",
      "company                   209\n",
      "altitude                  226\n",
      "region                     59\n",
      "producer                  232\n",
      "number_of_bags              0\n",
      "bag_weight                  0\n",
      "in_country_partner          0\n",
      "harvest_year               47\n",
      "grading_date                0\n",
      "owner_1                     7\n",
      "variety                   226\n",
      "processing_method         170\n",
      "aroma                       0\n",
      "flavor                      0\n",
      "aftertaste                  0\n",
      "acidity                     0\n",
      "body                        0\n",
      "balance                     0\n",
      "uniformity                  0\n",
      "clean_cup                   0\n",
      "sweetness                   0\n",
      "cupper_points               0\n",
      "moisture                    0\n",
      "category_one_defects        0\n",
      "quakers                     1\n",
      "color                     218\n",
      "category_two_defects        0\n",
      "expiration                  0\n",
      "certification_body          0\n",
      "certification_address       0\n",
      "certification_contact       0\n",
      "unit_of_measurement         0\n",
      "altitude_low_meters       230\n",
      "altitude_high_meters      230\n",
      "altitude_mean_meters      230\n",
      "dtype: int64\n"
     ]
    }
   ],
   "source": [
    "print(df.isnull().sum())"
   ]
  },
  {
   "cell_type": "markdown",
   "metadata": {},
   "source": [
    "### I will use the altitude to see the correlation with the total cup points. "
   ]
  },
  {
   "cell_type": "code",
   "execution_count": 154,
   "metadata": {},
   "outputs": [
    {
     "data": {
      "image/png": "[encoded data removed]",
      "text/plain": [
       "<Figure size 640x480 with 1 Axes>"
      ]
     },
     "metadata": {},
     "output_type": "display_data"
    }
   ],
   "source": [
    "import matplotlib.pyplot as plt\n",
    "\n",
    "df['altitude_mean_meters'].plot(kind='box', title='Box Plot of Altitude Mean Meters')\n",
    "plt.show()\n"
   ]
  },
  {
   "cell_type": "code",
   "execution_count": 155,
   "metadata": {},
   "outputs": [
    {
     "name": "stdout",
     "output_type": "stream",
     "text": [
      "country_of_origin\n",
      "Brazil                          0.204545\n",
      "Burundi                         0.000000\n",
      "China                           0.000000\n",
      "Colombia                        0.180328\n",
      "Costa Rica                      0.098039\n",
      "Cote d?Ivoire                   0.000000\n",
      "Ecuador                         0.333333\n",
      "El Salvador                     0.095238\n",
      "Ethiopia                        0.318182\n",
      "Guatemala                       0.138122\n",
      "Haiti                           0.000000\n",
      "Honduras                        0.037736\n",
      "India                           0.142857\n",
      "Indonesia                       0.100000\n",
      "Japan                           0.000000\n",
      "Kenya                           0.080000\n",
      "Laos                            0.000000\n",
      "Malawi                          0.000000\n",
      "Mauritius                       0.000000\n",
      "Mexico                          0.016949\n",
      "Myanmar                         0.000000\n",
      "Nicaragua                       0.307692\n",
      "Panama                          0.000000\n",
      "Papua New Guinea                0.000000\n",
      "Peru                            0.800000\n",
      "Philippines                     0.000000\n",
      "Rwanda                          0.000000\n",
      "Taiwan                          0.066667\n",
      "Tanzania, United Republic Of    0.075000\n",
      "Thailand                        0.375000\n",
      "Uganda                          0.055556\n",
      "United States                   0.000000\n",
      "United States (Hawaii)          0.972603\n",
      "United States (Puerto Rico)     0.000000\n",
      "Vietnam                         0.125000\n",
      "Zambia                          0.000000\n",
      "Name: altitude_mean_meters, dtype: float64\n"
     ]
    }
   ],
   "source": [
    "\n",
    "print(df.groupby('country_of_origin')['altitude_mean_meters'].apply(lambda x: x.isnull().mean()))"
   ]
  },
  {
   "cell_type": "markdown",
   "metadata": {},
   "source": [
    "### as there are clear outliars and country correlation with the alltitude, I will fill the null with the mean value calculated within the country."
   ]
  },
  {
   "cell_type": "code",
   "execution_count": 156,
   "metadata": {},
   "outputs": [
    {
     "data": {
      "image/png": "[encoded data removed]",
      "text/plain": [
       "<Figure size 640x480 with 1 Axes>"
      ]
     },
     "metadata": {},
     "output_type": "display_data"
    }
   ],
   "source": [
    "high_altitude_threshold = df['altitude_mean_meters'].quantile(0.99)\n",
    "df = df[df['altitude_mean_meters'] <= high_altitude_threshold]\n",
    "df['altitude_mean_meters'].plot(kind='box', title='Box Plot of Altitude Mean Meters')\n",
    "plt.show()"
   ]
  },
  {
   "cell_type": "code",
   "execution_count": 157,
   "metadata": {},
   "outputs": [],
   "source": [
    "country_median_altitudes = df.groupby('country_of_origin')['altitude_mean_meters'].median()\n",
    "df['altitude_mean_meters'] = df.apply(\n",
    "    lambda row: country_median_altitudes[row['country_of_origin']] if pd.isnull(row['altitude_mean_meters']) else row['altitude_mean_meters'],\n",
    "    axis=1\n",
    ")\n"
   ]
  },
  {
   "cell_type": "code",
   "execution_count": 158,
   "metadata": {},
   "outputs": [
    {
     "name": "stdout",
     "output_type": "stream",
     "text": [
      "0\n"
     ]
    }
   ],
   "source": [
    "print(df[\"altitude_mean_meters\"].isnull().sum())"
   ]
  },
  {
   "cell_type": "markdown",
   "metadata": {},
   "source": [
    "### Inspect the total_cup_points column"
   ]
  },
  {
   "cell_type": "code",
   "execution_count": 159,
   "metadata": {},
   "outputs": [
    {
     "name": "stdout",
     "output_type": "stream",
     "text": [
      "count    1098.000000\n",
      "mean       82.124199\n",
      "std         3.613312\n",
      "min         0.000000\n",
      "25%        81.250000\n",
      "50%        82.500000\n",
      "75%        83.580000\n",
      "max        90.580000\n",
      "Name: total_cup_points, dtype: float64\n",
      "      total_cup_points  species            owner country_of_origin  \\\n",
      "1310               0.0  Arabica  bismarck castro          Honduras   \n",
      "\n",
      "         farm_name lot_number                mill  ico_number  \\\n",
      "1310  los hicaques        103  cigrah s.a de c.v.  13-111-053   \n",
      "\n",
      "                company altitude  ...  color category_two_defects  \\\n",
      "1310  cigrah s.a de c.v     1400  ...  Green                    2   \n",
      "\n",
      "            expiration            certification_body  \\\n",
      "1310  April 28th, 2018  Instituto Hondureño del Café   \n",
      "\n",
      "                         certification_address  \\\n",
      "1310  b4660a57e9f8cc613ae5b8f02bfce8634c763ab4   \n",
      "\n",
      "                         certification_contact unit_of_measurement  \\\n",
      "1310  7f521ca403540f81ec99daec7da19c2788393880                   m   \n",
      "\n",
      "     altitude_low_meters altitude_high_meters altitude_mean_meters  \n",
      "1310              1400.0               1400.0               1400.0  \n",
      "\n",
      "[1 rows x 43 columns]\n"
     ]
    }
   ],
   "source": [
    "print(df[\"total_cup_points\"].describe())\n",
    "print(df[df[\"total_cup_points\"] == 0])"
   ]
  },
  {
   "cell_type": "code",
   "execution_count": 160,
   "metadata": {},
   "outputs": [],
   "source": [
    "df= df[df[\"total_cup_points\"]>0]"
   ]
  },
  {
   "cell_type": "markdown",
   "metadata": {},
   "source": [
    "### Inspect teh country_of_origin"
   ]
  },
  {
   "cell_type": "code",
   "execution_count": 161,
   "metadata": {},
   "outputs": [
    {
     "name": "stdout",
     "output_type": "stream",
     "text": [
      "count       1097\n",
      "unique        36\n",
      "top       Mexico\n",
      "freq         232\n",
      "Name: country_of_origin, dtype: object\n"
     ]
    }
   ],
   "source": [
    "print(df[\"country_of_origin\"].describe())"
   ]
  },
  {
   "cell_type": "code",
   "execution_count": 162,
   "metadata": {},
   "outputs": [
    {
     "name": "stdout",
     "output_type": "stream",
     "text": [
      "0\n"
     ]
    }
   ],
   "source": [
    "\n",
    "df = df.dropna(subset=['country_of_origin'])\n",
    "\n",
    "print(df['country_of_origin'].isnull().sum())\n"
   ]
  },
  {
   "cell_type": "markdown",
   "metadata": {},
   "source": [
    "# Preparation"
   ]
  },
  {
   "cell_type": "code",
   "execution_count": 163,
   "metadata": {},
   "outputs": [],
   "source": [
    "def categorize_cup_points(avg_points):\n",
    "    if avg_points > 85:\n",
    "        return 'High Quality'\n",
    "    elif avg_points > 80:\n",
    "        return 'Medium Quality'\n",
    "    else:\n",
    "        return 'Low Quality'\n",
    "    \n",
    "def categorize_altitude(avg_altitude):\n",
    "    if avg_altitude > 1500:\n",
    "        return 'Very High'\n",
    "    elif avg_altitude > 1000:\n",
    "        return 'High'\n",
    "    elif avg_altitude > 500:\n",
    "        return 'Medium'\n",
    "    else:\n",
    "        return 'Low'\n"
   ]
  },
  {
   "cell_type": "markdown",
   "metadata": {},
   "source": []
  },
  {
   "cell_type": "code",
   "execution_count": 164,
   "metadata": {},
   "outputs": [],
   "source": [
    "country_cup_points_avg = df.groupby('country_of_origin')['total_cup_points'].transform('mean')\n",
    "country_altitude_avg = df.groupby('country_of_origin')['altitude_mean_meters'].transform('mean')\n",
    "country_entry_counts = df.groupby('country_of_origin')['total_cup_points'].transform('count')"
   ]
  },
  {
   "cell_type": "code",
   "execution_count": 165,
   "metadata": {},
   "outputs": [],
   "source": [
    "df['country_cup_points_avg'] = country_cup_points_avg\n",
    "df['avg_altitude_per_country'] = country_altitude_avg\n",
    "df['country_entry_counts'] = country_entry_counts"
   ]
  },
  {
   "cell_type": "code",
   "execution_count": 166,
   "metadata": {},
   "outputs": [],
   "source": [
    "df['quality_category'] = df['country_cup_points_avg'].apply(categorize_cup_points)\n",
    "df['quality_category_each'] = df['total_cup_points'].apply(categorize_cup_points)\n",
    "df['altitude_category'] = df['avg_altitude_per_country'].apply(categorize_altitude)"
   ]
  },
  {
   "cell_type": "code",
   "execution_count": 167,
   "metadata": {},
   "outputs": [
    {
     "name": "stdout",
     "output_type": "stream",
     "text": [
      "1097 1097\n"
     ]
    }
   ],
   "source": [
    "print(df[\"avg_altitude_per_country\"].count(), df[\"altitude_category\"].count())"
   ]
  },
  {
   "cell_type": "code",
   "execution_count": 168,
   "metadata": {},
   "outputs": [],
   "source": [
    "country_coords = pd.read_csv('average-latitude-longitude-countries.csv')\n",
    "\n",
    "country_coords.rename(columns={\n",
    "    'Country': 'country_of_origin',\n",
    "    'Latitude': 'latitude',\n",
    "    'Longitude': 'longitude'\n",
    "}, inplace=True)"
   ]
  },
  {
   "cell_type": "code",
   "execution_count": 169,
   "metadata": {},
   "outputs": [
    {
     "name": "stdout",
     "output_type": "stream",
     "text": [
      "Countries in df not in country_coords: {'Tanzania, United Republic Of', 'Cote d?Ivoire', 'United States (Puerto Rico)', 'Laos', 'United States (Hawaii)'}\n",
      "Countries in country_coords not in df: {'Djibouti', 'Russian Federation', 'Vanuatu', 'Guyana', 'Gambia', 'Saint Vincent and the Grenadines', 'Iraq', 'Eritrea', 'Iran, Islamic Republic of', 'Namibia', 'Kyrgyzstan', 'Qatar', 'Norway', 'United States Minor Outlying Islands', 'Sierra Leone', 'Estonia', 'Puerto Rico', 'Venezuela', 'Palau', 'Togo', 'Albania', 'Malta', 'Netherlands Antilles', 'Finland', 'Jamaica', 'Falkland Islands (Malvinas)', 'Morocco', 'Heard Island and McDonald Islands', 'United Arab Emirates', 'Swaziland', 'Afghanistan', 'Mayotte', 'Niger', 'Marshall Islands', 'Saint Helena', 'Saint Lucia', 'Zimbabwe', 'Iceland', 'Belgium', 'French Southern Territories', 'Sudan', 'Luxembourg', 'Austria', 'Australia', 'Italy', 'Saint Pierre and Miquelon', 'Angola', 'Burkina Faso', 'Macedonia', 'Croatia', 'Belarus', 'Solomon Islands', 'Senegal', 'Singapore', 'Saudi Arabia', 'Turks and Caicos Islands', 'Ireland', 'Cocos (Keeling) Islands', 'Spain', 'Ukraine', 'Guadeloupe', 'Guinea-Bissau', 'Bhutan', 'Palestinian Territory', 'Aruba', 'Hungary', 'Brunei Darussalam', 'Gibraltar', 'Bahrain', 'Latvia', 'Equatorial Guinea', 'Liberia', 'Barbados', 'Montenegro', 'Romania', 'French Guiana', 'British Indian Ocean Territory', 'Syrian Arab Republic', 'Belize', 'Tokelau', 'Uzbekistan', 'Grenada', 'Saint Kitts and Nevis', \"Lao People's Democratic Republic\", 'Bouvet Island', 'Dominica', 'Netherlands', 'Somalia', 'Kuwait', 'San Marino', 'Sao Tome and Principe', 'Anguilla', 'Lesotho', 'Georgia', 'Malaysia', 'Cambodia', 'Botswana', 'Virgin Islands, U.S.', 'Mauritania', 'Libyan Arab Jamahiriya', 'Chad', 'Trinidad and Tobago', 'Tunisia', 'Slovenia', 'Suriname', 'Northern Mariana Islands', 'Mali', 'Micronesia, Federated States of', 'Tanzania, United Republic of', 'Bermuda', 'Christmas Island', 'Egypt', 'Cameroon', 'Moldova, Republic of', \"Cote d'Ivoire\", 'Maldives', 'Nauru', 'Serbia', 'Oman', 'South Africa', 'Slovakia', 'Europe', 'New Caledonia', 'Bulgaria', 'Korea, Republic of', 'Cayman Islands', 'Sri Lanka', 'Sweden', 'Lithuania', 'Samoa', 'Uruguay', 'Bangladesh', 'Tonga', 'Congo, The Democratic Republic of the', 'Dominican Republic', 'United Kingdom', 'Niue', 'Guam', 'Cuba', 'Monaco', 'American Samoa', 'Chile', 'Bahamas', 'Central African Republic', 'Algeria', 'Faroe Islands', 'Turkey', 'Cook Islands', 'Nigeria', 'Tajikistan', 'Wallis and Futuna', 'Kazakhstan', \"Korea, Democratic People's Republic of\", 'Portugal', 'Pakistan', 'Armenia', 'France', 'Benin', 'Greenland', 'Liechtenstein', 'Mongolia', 'Nepal', 'Germany', 'New Zealand', 'Poland', 'Holy See (Vatican City State)', 'Bosnia and Herzegovina', 'Ghana', 'Virgin Islands, British', 'Tuvalu', 'South Georgia and the South Sandwich Islands', 'Hong Kong', 'Martinique', 'Czech Republic', 'Cape Verde', 'Andorra', 'Jordan', 'Svalbard and Jan Mayen', 'Bolivia', 'Lebanon', 'Antigua and Barbuda', 'Norfolk Island', 'Paraguay', 'Cyprus', 'French Polynesia', 'Kiribati', 'Switzerland', 'Guinea', 'Seychelles', 'Madagascar', 'Asia/Pacific Region', 'Denmark', 'Greece', 'Canada', 'Gabon', 'Comoros', 'Macao', 'Yemen', 'Fiji', 'Argentina', 'Montserrat', 'Israel', 'Azerbaijan', 'Turkmenistan', 'Antarctica', 'Reunion', 'Mozambique', 'Congo', 'Western Sahara'}\n"
     ]
    }
   ],
   "source": [
    "\n",
    "unique_countries_df = set(df['country_of_origin'].unique())\n",
    "unique_countries_coords = set(country_coords['country_of_origin'].unique())\n",
    "\n",
    "\n",
    "missing_countries = unique_countries_df - unique_countries_coords\n",
    "\n",
    "extra_countries = unique_countries_coords - unique_countries_df\n",
    "\n",
    "print(\"Countries in df not in country_coords:\", missing_countries)\n",
    "print(\"Countries in country_coords not in df:\", extra_countries)\n"
   ]
  },
  {
   "cell_type": "code",
   "execution_count": 170,
   "metadata": {},
   "outputs": [],
   "source": [
    "country_name_mapping = {\n",
    "    'Tanzania, United Republic Of': 'Tanzania, United Republic of',\n",
    "    'United States (Puerto Rico)': 'Puerto Rico',\n",
    "    'United States (Hawaii)': 'United States',  \n",
    "    'Cote d?Ivoire': \"Cote d'Ivoire\",\n",
    "    'Laos': \"Lao People's Democratic Republic\"\n",
    "}\n",
    "\n",
    "df['country_of_origin'] = df['country_of_origin'].replace(country_name_mapping)\n"
   ]
  },
  {
   "cell_type": "code",
   "execution_count": 171,
   "metadata": {},
   "outputs": [
    {
     "name": "stdout",
     "output_type": "stream",
     "text": [
      "   total_cup_points  species                     owner country_of_origin  \\\n",
      "0             90.58  Arabica                 metad plc          Ethiopia   \n",
      "1             89.92  Arabica                 metad plc          Ethiopia   \n",
      "2             89.75  Arabica  grounds for health admin         Guatemala   \n",
      "3             89.00  Arabica       yidnekachew dabessa          Ethiopia   \n",
      "4             88.83  Arabica                 metad plc          Ethiopia   \n",
      "\n",
      "                                  farm_name lot_number       mill ico_number  \\\n",
      "0                                 metad plc        NaN  metad plc  2014/2015   \n",
      "1                                 metad plc        NaN  metad plc  2014/2015   \n",
      "2  san marcos barrancas \"san cristobal cuch        NaN        NaN        NaN   \n",
      "3     yidnekachew dabessa coffee plantation        NaN    wolensu        NaN   \n",
      "4                                 metad plc        NaN  metad plc  2014/2015   \n",
      "\n",
      "                                 company       altitude  ...  \\\n",
      "0      metad agricultural developmet plc      1950-2200  ...   \n",
      "1      metad agricultural developmet plc      1950-2200  ...   \n",
      "2                                    NaN  1600 - 1800 m  ...   \n",
      "3  yidnekachew debessa coffee plantation      1800-2200  ...   \n",
      "4      metad agricultural developmet plc      1950-2200  ...   \n",
      "\n",
      "  altitude_mean_meters country_cup_points_avg  avg_altitude_per_country  \\\n",
      "0               2075.0              85.916333               1800.300667   \n",
      "1               2075.0              85.916333               1800.300667   \n",
      "2               1700.0              82.024221               1440.732421   \n",
      "3               2000.0              85.916333               1800.300667   \n",
      "4               2075.0              85.916333               1800.300667   \n",
      "\n",
      "  country_entry_counts quality_category quality_category_each  \\\n",
      "0                   30     High Quality          High Quality   \n",
      "1                   30     High Quality          High Quality   \n",
      "2                  154   Medium Quality          High Quality   \n",
      "3                   30     High Quality          High Quality   \n",
      "4                   30     High Quality          High Quality   \n",
      "\n",
      "  altitude_category ISO 3166 Country Code latitude longitude  \n",
      "0         Very High                    ET      8.0     38.00  \n",
      "1         Very High                    ET      8.0     38.00  \n",
      "2              High                    GT     15.5    -90.25  \n",
      "3         Very High                    ET      8.0     38.00  \n",
      "4         Very High                    ET      8.0     38.00  \n",
      "\n",
      "[5 rows x 52 columns]\n"
     ]
    }
   ],
   "source": [
    "df = df.merge(country_coords, on='country_of_origin', how='left')\n",
    "print(df.head(5))"
   ]
  },
  {
   "cell_type": "code",
   "execution_count": 172,
   "metadata": {},
   "outputs": [
    {
     "data": {
      "text/plain": [
       "Index(['total_cup_points', 'species', 'owner', 'country_of_origin',\n",
       "       'farm_name', 'lot_number', 'mill', 'ico_number', 'company', 'altitude',\n",
       "       'region', 'producer', 'number_of_bags', 'bag_weight',\n",
       "       'in_country_partner', 'harvest_year', 'grading_date', 'owner_1',\n",
       "       'variety', 'processing_method', 'aroma', 'flavor', 'aftertaste',\n",
       "       'acidity', 'body', 'balance', 'uniformity', 'clean_cup', 'sweetness',\n",
       "       'cupper_points', 'moisture', 'category_one_defects', 'quakers', 'color',\n",
       "       'category_two_defects', 'expiration', 'certification_body',\n",
       "       'certification_address', 'certification_contact', 'unit_of_measurement',\n",
       "       'altitude_low_meters', 'altitude_high_meters', 'altitude_mean_meters',\n",
       "       'country_cup_points_avg', 'avg_altitude_per_country',\n",
       "       'country_entry_counts', 'quality_category', 'quality_category_each',\n",
       "       'altitude_category', 'ISO 3166 Country Code', 'latitude', 'longitude'],\n",
       "      dtype='object')"
      ]
     },
     "execution_count": 172,
     "metadata": {},
     "output_type": "execute_result"
    }
   ],
   "source": [
    "df.columns"
   ]
  },
  {
   "cell_type": "code",
   "execution_count": 173,
   "metadata": {},
   "outputs": [],
   "source": [
    "\n",
    "columns_to_keep = [\n",
    "    'total_cup_points', \n",
    "    'country_of_origin', \n",
    "    'altitude_mean_meters', \n",
    "    'latitude',\n",
    "    'longitude' ,\n",
    "    'country_cup_points_avg',\n",
    "    'avg_altitude_per_country',\n",
    "    'quality_category',\n",
    "    'altitude_category',\n",
    "    'quality_category_each',\n",
    "    'country_entry_counts'\n",
    "]\n",
    "\n",
    "df_selected = df[columns_to_keep].copy()\n",
    "\n",
    "\n",
    "df_selected.to_csv('selected_coffee_data.csv', index=False)\n",
    "\n"
   ]
  },
  {
   "cell_type": "code",
   "execution_count": null,
   "metadata": {},
   "outputs": [],
   "source": []
  }
 ],
 "metadata": {
  "kernelspec": {
   "display_name": "Python 3",
   "language": "python",
   "name": "python3"
  },
  "language_info": {
   "codemirror_mode": {
    "name": "ipython",
    "version": 3
   },
   "file_extension": ".py",
   "mimetype": "text/x-python",
   "name": "python",
   "nbconvert_exporter": "python",
   "pygments_lexer": "ipython3",
   "version": "3.10.7"
  }
 },
 "nbformat": 4,
 "nbformat_minor": 2
}
